{
 "cells": [
  {
   "cell_type": "markdown",
   "metadata": {},
   "source": [
    "# Naive Bayes Classifier"
   ]
  },
  {
   "cell_type": "code",
   "execution_count": 19,
   "metadata": {},
   "outputs": [
    {
     "name": "stdout",
     "output_type": "stream",
     "text": [
      "prediction :  ['Jazz' 'Acoustic']\n"
     ]
    },
    {
     "name": "stderr",
     "output_type": "stream",
     "text": [
      "c:\\Users\\PMLS\\AppData\\Local\\Programs\\Python\\Python312\\Lib\\site-packages\\sklearn\\base.py:493: UserWarning: X does not have valid feature names, but GaussianNB was fitted with feature names\n",
      "  warnings.warn(\n"
     ]
    }
   ],
   "source": [
    "import pandas as pd\n",
    "from sklearn.naive_bayes import GaussianNB\n",
    "# Load the dataset\n",
    "df = pd.read_csv('music.csv')\n",
    "# create input and output features from dataset\n",
    "X = df.drop(columns=['genre'])\n",
    "y = df['genre']\n",
    "# Create a Gaussian Naive Bayes classifier\n",
    "gnb = GaussianNB()\n",
    "# Train the classifier on the data\n",
    "gnb.fit(X, y)\n",
    "# Make predictions on the data\n",
    "pred = gnb.predict([[28,1],[28,0]])\n",
    "# Print the prediction\n",
    "print(\"prediction : \",pred)"
   ]
  },
  {
   "cell_type": "markdown",
   "metadata": {},
   "source": [
    "# K-Nearest Neighbours"
   ]
  },
  {
   "cell_type": "code",
   "execution_count": 20,
   "metadata": {},
   "outputs": [
    {
     "name": "stdout",
     "output_type": "stream",
     "text": [
      "prediction :  ['Jazz' 'Acoustic']\n"
     ]
    },
    {
     "name": "stderr",
     "output_type": "stream",
     "text": [
      "c:\\Users\\PMLS\\AppData\\Local\\Programs\\Python\\Python312\\Lib\\site-packages\\sklearn\\base.py:493: UserWarning: X does not have valid feature names, but KNeighborsClassifier was fitted with feature names\n",
      "  warnings.warn(\n"
     ]
    }
   ],
   "source": [
    "import pandas as pd\n",
    "from sklearn.neighbors import KNeighborsClassifier\n",
    "# Load the dataset\n",
    "df = pd.read_csv('music.csv')\n",
    "# create input and output features from dataset\n",
    "X = df.drop(columns=['genre'])\n",
    "y = df['genre']\n",
    "# Create a K-Nearest neighbors classifier\n",
    "knn = KNeighborsClassifier(n_neighbors=3)\n",
    "# Train the classifier on the data\n",
    "knn.fit(X, y)\n",
    "# Make predictions on the data\n",
    "pred = knn.predict([[28,1],[28,0]])\n",
    "# Print the prediction\n",
    "print(\"prediction : \",pred)"
   ]
  },
  {
   "cell_type": "markdown",
   "metadata": {},
   "source": [
    "# Support Vector Machine"
   ]
  },
  {
   "cell_type": "code",
   "execution_count": 21,
   "metadata": {},
   "outputs": [
    {
     "name": "stdout",
     "output_type": "stream",
     "text": [
      "prediction :  ['Jazz' 'Acoustic']\n"
     ]
    },
    {
     "name": "stderr",
     "output_type": "stream",
     "text": [
      "c:\\Users\\PMLS\\AppData\\Local\\Programs\\Python\\Python312\\Lib\\site-packages\\sklearn\\base.py:493: UserWarning: X does not have valid feature names, but SVC was fitted with feature names\n",
      "  warnings.warn(\n"
     ]
    }
   ],
   "source": [
    "import pandas as pd\n",
    "from sklearn.svm import SVC\n",
    "# Load the dataset\n",
    "df = pd.read_csv('music.csv')\n",
    "# create input and output features from dataset\n",
    "X = df.drop(columns=['genre'])\n",
    "y = df['genre']\n",
    "# Create a Support Vector Machine classifier\n",
    "clf = SVC(kernel='linear')\n",
    "# Train the classifier on the data\n",
    "clf.fit(X, y)\n",
    "# Make predictions on the data\n",
    "pred = clf.predict([[28,1],[28,0]])\n",
    "# Print the prediction\n",
    "print(\"prediction : \",pred)"
   ]
  },
  {
   "cell_type": "markdown",
   "metadata": {},
   "source": [
    "# Decision Tree"
   ]
  },
  {
   "cell_type": "code",
   "execution_count": 22,
   "metadata": {},
   "outputs": [
    {
     "name": "stdout",
     "output_type": "stream",
     "text": [
      "prediction :  ['Jazz' 'Acoustic']\n"
     ]
    },
    {
     "name": "stderr",
     "output_type": "stream",
     "text": [
      "c:\\Users\\PMLS\\AppData\\Local\\Programs\\Python\\Python312\\Lib\\site-packages\\sklearn\\base.py:493: UserWarning: X does not have valid feature names, but DecisionTreeClassifier was fitted with feature names\n",
      "  warnings.warn(\n"
     ]
    }
   ],
   "source": [
    "import pandas as pd\n",
    "from sklearn.tree import DecisionTreeClassifier\n",
    "# Load the dataset\n",
    "df = pd.read_csv('music.csv')\n",
    "# create input and output features from dataset\n",
    "X = df.drop(columns=['genre'])\n",
    "y = df['genre']\n",
    "# Create a Decision Tree classifier\n",
    "dt = DecisionTreeClassifier()\n",
    "# Train the classifier on the data\n",
    "dt.fit(X, y)\n",
    "# Make predictions on the data\n",
    "pred = dt.predict([[28,1],[28,0]])\n",
    "# Print the prediction\n",
    "print(\"prediction : \",pred)"
   ]
  },
  {
   "cell_type": "markdown",
   "metadata": {},
   "source": [
    "# Random Forest"
   ]
  },
  {
   "cell_type": "code",
   "execution_count": 23,
   "metadata": {},
   "outputs": [
    {
     "name": "stdout",
     "output_type": "stream",
     "text": [
      "prediction :  ['Jazz' 'Acoustic']\n"
     ]
    },
    {
     "name": "stderr",
     "output_type": "stream",
     "text": [
      "c:\\Users\\PMLS\\AppData\\Local\\Programs\\Python\\Python312\\Lib\\site-packages\\sklearn\\base.py:493: UserWarning: X does not have valid feature names, but RandomForestClassifier was fitted with feature names\n",
      "  warnings.warn(\n"
     ]
    }
   ],
   "source": [
    "import pandas as pd\n",
    "from sklearn.ensemble import RandomForestClassifier\n",
    "df = pd.read_csv('music.csv')\n",
    "# create input and output features from dataset\n",
    "X = df.drop(columns=['genre'])\n",
    "y = df['genre']\n",
    "# Create a Random Forest classifier\n",
    "rf = RandomForestClassifier(n_estimators=10)\n",
    "# Train the classifier on the data\n",
    "rf.fit(X, y)\n",
    "# Make predictions on the data\n",
    "pred = rf.predict([[28,1],[28,0]])\n",
    "# Print the prediction\n",
    "print(\"prediction : \",pred)"
   ]
  }
 ],
 "metadata": {
  "kernelspec": {
   "display_name": "Python 3",
   "language": "python",
   "name": "python3"
  },
  "language_info": {
   "codemirror_mode": {
    "name": "ipython",
    "version": 3
   },
   "file_extension": ".py",
   "mimetype": "text/x-python",
   "name": "python",
   "nbconvert_exporter": "python",
   "pygments_lexer": "ipython3",
   "version": "3.12.3"
  }
 },
 "nbformat": 4,
 "nbformat_minor": 2
}
