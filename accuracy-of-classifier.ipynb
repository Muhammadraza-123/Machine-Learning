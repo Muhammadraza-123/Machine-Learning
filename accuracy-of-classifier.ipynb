{
 "cells": [
  {
   "cell_type": "markdown",
   "metadata": {},
   "source": [
    "# Accuracy of Naive Bayes Classifier"
   ]
  },
  {
   "cell_type": "code",
   "execution_count": 10,
   "metadata": {},
   "outputs": [
    {
     "name": "stdout",
     "output_type": "stream",
     "text": [
      "Accuracy :  0.75\n",
      "Actual :  17    Classical\n",
      "1        HipHop\n",
      "5          Jazz\n",
      "11        Dance\n",
      "Name: genre, dtype: object\n",
      "prediction :  ['Classical' 'HipHop' 'Jazz' 'Acoustic']\n"
     ]
    }
   ],
   "source": [
    "import pandas as pd\n",
    "from sklearn.naive_bayes import GaussianNB\n",
    "from sklearn.model_selection import train_test_split\n",
    "from sklearn.metrics import accuracy_score\n",
    "# Load the dataset\n",
    "df = pd.read_csv('music.csv')\n",
    "# create input and output features from dataset\n",
    "X = df.drop(columns=['genre'])\n",
    "y = df['genre']\n",
    "#Split the dataset into training and testing sets\n",
    "X_train, X_test, y_train, y_test = train_test_split(X, y, test_size=0.2,random_state=20)\n",
    "# Create a Gaussian Naive Bayes classifier\n",
    "gnb = GaussianNB()\n",
    "# Train the classifier on the training data\n",
    "gnb.fit(X_train, y_train)\n",
    "# Make predictions on the testing data\n",
    "y_pred = gnb.predict(X_test)\n",
    "#calculate and print the Accuracy\n",
    "accuracy = accuracy_score(y_test, y_pred)\n",
    "print(\"Accuracy : \", accuracy)\n",
    "print(\"Actual : \",y_test)\n",
    "print(\"prediction : \",y_pred)"
   ]
  },
  {
   "cell_type": "markdown",
   "metadata": {},
   "source": [
    "# Accuracy of K-Nearest Neighbours"
   ]
  },
  {
   "cell_type": "code",
   "execution_count": 11,
   "metadata": {},
   "outputs": [
    {
     "name": "stdout",
     "output_type": "stream",
     "text": [
      "Accuracy :  0.5\n",
      "Actual :  17    Classical\n",
      "1        HipHop\n",
      "5          Jazz\n",
      "11        Dance\n",
      "Name: genre, dtype: object\n",
      "prediction :  ['Classical' 'HipHop' 'Acoustic' 'Acoustic']\n"
     ]
    }
   ],
   "source": [
    "import pandas as pd\n",
    "from sklearn.neighbors import KNeighborsClassifier\n",
    "from sklearn.model_selection import train_test_split\n",
    "from sklearn.metrics import accuracy_score\n",
    "# Load the dataset\n",
    "df = pd.read_csv('music.csv')\n",
    "# create input and output features from dataset\n",
    "X = df.drop(columns=['genre'])\n",
    "y = df['genre']\n",
    "#Split the dataset into training and testing sets\n",
    "X_train, X_test, y_train, y_test = train_test_split(X, y, test_size=0.2,random_state=20)\n",
    "# Create a KNN classifier\n",
    "knn = KNeighborsClassifier(n_neighbors=3)\n",
    "# Train the classifier on the training data\n",
    "knn.fit(X_train, y_train)\n",
    "# Make predictions on the testing data\n",
    "y_pred = knn.predict(X_test)\n",
    "#calculate and print the Accuracy\n",
    "accuracy = accuracy_score(y_test, y_pred)\n",
    "print(\"Accuracy : \", accuracy)\n",
    "print(\"Actual : \",y_test)\n",
    "print(\"prediction : \",y_pred)"
   ]
  },
  {
   "cell_type": "markdown",
   "metadata": {},
   "source": [
    "# Accuracy of support Vector Machine"
   ]
  },
  {
   "cell_type": "code",
   "execution_count": 12,
   "metadata": {},
   "outputs": [
    {
     "name": "stdout",
     "output_type": "stream",
     "text": [
      "Accuracy :  0.5\n",
      "Actual :  17    Classical\n",
      "1        HipHop\n",
      "5          Jazz\n",
      "11        Dance\n",
      "Name: genre, dtype: object\n",
      "prediction :  ['Classical' 'HipHop' 'Acoustic' 'Acoustic']\n"
     ]
    }
   ],
   "source": [
    "import pandas as pd\n",
    "from sklearn.svm import SVC\n",
    "from sklearn.model_selection import train_test_split\n",
    "from sklearn.metrics import accuracy_score\n",
    "# Load the dataset\n",
    "df = pd.read_csv('music.csv')\n",
    "# create input and output features from dataset\n",
    "X = df.drop(columns=['genre'])\n",
    "y = df['genre']\n",
    "#Split the dataset into training and testing sets\n",
    "X_train, X_test, y_train, y_test = train_test_split(X, y, test_size=0.2,random_state=20)\n",
    "# Create a SVM classifier\n",
    "clf = SVC(kernel='linear')\n",
    "# Train the classifier on the training data\n",
    "clf.fit(X_train, y_train)\n",
    "# Make predictions on the testing data\n",
    "y_pred = clf.predict(X_test)\n",
    "#calculate and print the Accuracy\n",
    "accuracy = accuracy_score(y_test, y_pred)\n",
    "print(\"Accuracy : \", accuracy)\n",
    "print(\"Actual : \",y_test)\n",
    "print(\"prediction : \",y_pred)"
   ]
  },
  {
   "cell_type": "markdown",
   "metadata": {},
   "source": [
    "# Accuracy the Decision Tree"
   ]
  },
  {
   "cell_type": "code",
   "execution_count": 13,
   "metadata": {},
   "outputs": [
    {
     "name": "stdout",
     "output_type": "stream",
     "text": [
      "Accuracy :  0.5\n",
      "Actual :  17    Classical\n",
      "1        HipHop\n",
      "5          Jazz\n",
      "11        Dance\n",
      "Name: genre, dtype: object\n",
      "prediction :  ['Classical' 'HipHop' 'Acoustic' 'Acoustic']\n"
     ]
    }
   ],
   "source": [
    "import pandas as pd\n",
    "from sklearn.tree import DecisionTreeClassifier\n",
    "from sklearn.model_selection import train_test_split\n",
    "from sklearn.metrics import accuracy_score\n",
    "# Load the dataset\n",
    "df = pd.read_csv('music.csv')\n",
    "# create input and output features from dataset\n",
    "X = df.drop(columns=['genre'])\n",
    "y = df['genre']\n",
    "#Split the dataset into training and testing sets\n",
    "X_train, X_test, y_train, y_test = train_test_split(X, y, test_size=0.2,random_state=20)\n",
    "# Create a Decision Tree classifier\n",
    "dt = DecisionTreeClassifier()\n",
    "# Train the classifier on the training data\n",
    "dt.fit(X_train, y_train)\n",
    "# Make predictions on the testing data\n",
    "pred = dt.predict(X_test)\n",
    "#calculate and print the Accuracy\n",
    "accuracy = accuracy_score(y_test, y_pred)\n",
    "print(\"Accuracy : \", accuracy)\n",
    "print(\"Actual : \",y_test)\n",
    "print(\"prediction : \",y_pred)"
   ]
  },
  {
   "cell_type": "markdown",
   "metadata": {},
   "source": [
    "# Accuracy the Random Forest"
   ]
  },
  {
   "cell_type": "code",
   "execution_count": 14,
   "metadata": {},
   "outputs": [
    {
     "name": "stdout",
     "output_type": "stream",
     "text": [
      "Accuracy :  0.5\n",
      "Actual :  17    Classical\n",
      "1        HipHop\n",
      "5          Jazz\n",
      "11        Dance\n",
      "Name: genre, dtype: object\n",
      "prediction :  ['Classical' 'HipHop' 'Acoustic' 'Acoustic']\n"
     ]
    }
   ],
   "source": [
    "import pandas as pd\n",
    "from sklearn.ensemble import RandomForestClassifier\n",
    "from sklearn.model_selection import train_test_split\n",
    "from sklearn.metrics import accuracy_score\n",
    "# Load the dataset\n",
    "df = pd.read_csv('music.csv')\n",
    "# create input and output features from dataset\n",
    "X = df.drop(columns=['genre'])\n",
    "y = df['genre']\n",
    "#Split the dataset into training and testing sets\n",
    "X_train, X_test, y_train, y_test = train_test_split(X, y, test_size=0.2,random_state=20)\n",
    "# Create a Random Forest classifier\n",
    "rf =RandomForestClassifier(n_estimators=10)\n",
    "# Train the classifier on the training data\n",
    "rf.fit(X_train, y_train)\n",
    "# Make predictions on the testing data\n",
    "pred = rf.predict(X_test)\n",
    "#calculate and print the Accuracy\n",
    "accuracy = accuracy_score(y_test, y_pred)\n",
    "print(\"Accuracy : \", accuracy)\n",
    "print(\"Actual : \",y_test)\n",
    "print(\"prediction : \",y_pred)"
   ]
  }
 ],
 "metadata": {
  "kernelspec": {
   "display_name": "Python 3",
   "language": "python",
   "name": "python3"
  },
  "language_info": {
   "codemirror_mode": {
    "name": "ipython",
    "version": 3
   },
   "file_extension": ".py",
   "mimetype": "text/x-python",
   "name": "python",
   "nbconvert_exporter": "python",
   "pygments_lexer": "ipython3",
   "version": "3.12.3"
  }
 },
 "nbformat": 4,
 "nbformat_minor": 2
}
